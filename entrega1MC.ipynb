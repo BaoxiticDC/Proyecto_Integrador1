{
 "cells": [
  {
   "cell_type": "markdown",
   "metadata": {},
   "source": [
    "# Importar librerias"
   ]
  },
  {
   "cell_type": "code",
   "execution_count": null,
   "metadata": {},
   "outputs": [],
   "source": [
    "import matplotlib.pyplot as plt\n",
    "import numpy as np\n",
    "import cv2\n",
    "import pandas as pd\n",
    "import itertools as it\n",
    "import scipy as sc"
   ]
  },
  {
   "cell_type": "markdown",
   "metadata": {},
   "source": [
    "# Hacer lista de todas las imagenes que se deben leer"
   ]
  },
  {
   "cell_type": "code",
   "execution_count": null,
   "metadata": {},
   "outputs": [],
   "source": [
    "#List all image files\n",
    "import glob\n",
    "image_list = []\n",
    "base1='../input/faces94/*'\n",
    "for root1 in glob.glob(base1):\n",
    "    base2=root1+'/*'\n",
    "    for (root2) in glob.glob(base2):\n",
    "        base3=root2+'/*jp*'\n",
    "        for (root3) in glob.glob(base3):\n",
    "            image_list.append(root3)\n",
    "\n",
    "print(len(image_list))"
   ]
  },
  {
   "cell_type": "markdown",
   "metadata": {},
   "source": [
    "# Inspección individual"
   ]
  },
  {
   "cell_type": "code",
   "execution_count": null,
   "metadata": {},
   "outputs": [],
   "source": [
    "#Plot a given image\n",
    "image = cv2.resize(cv2.imread(image_list[400]),(180, 180)) \n",
    "image = cv2.cvtColor(image, cv2.COLOR_BGR2GRAY)\n",
    "plt.imshow(image, cmap = plt.cm.gray)"
   ]
  },
  {
   "cell_type": "markdown",
   "metadata": {},
   "source": [
    "# Matriz con todo el dataset"
   ]
  },
  {
   "cell_type": "code",
   "execution_count": null,
   "metadata": {},
   "outputs": [],
   "source": [
    "# Make a whole matrix with all dataset 180x180*num_images\n",
    "data_set=np.zeros((len(image_list),180,180))\n",
    "for image in range(len(image_list)):\n",
    "    data_set[image,:,:]=cv2.cvtColor(cv2.resize(cv2.imread(image_list[image]),(180, 180)),cv2.COLOR_BGR2GRAY)\n",
    "plt.imshow(data_set[400,:,:], cmap = plt.cm.gray) #check \n"
   ]
  },
  {
   "cell_type": "markdown",
   "metadata": {},
   "source": [
    "# Calculemos el rostro medio"
   ]
  },
  {
   "cell_type": "code",
   "execution_count": null,
   "metadata": {},
   "outputs": [],
   "source": [
    "mean_face=np.mean(data_set, axis=0)\n",
    "plt.imshow(mean_face, cmap = plt.cm.gray) #check "
   ]
  },
  {
   "cell_type": "markdown",
   "metadata": {},
   "source": [
    "# Calculemos el rostro mediano"
   ]
  },
  {
   "cell_type": "code",
   "execution_count": null,
   "metadata": {},
   "outputs": [],
   "source": [
    "median_face=np.median(data_set, axis=0)\n",
    "plt.imshow(mean_face, cmap = plt.cm.gray) #check "
   ]
  },
  {
   "cell_type": "markdown",
   "metadata": {},
   "source": [
    "# Metrica 5 - Chamfer\n",
    "\n",
    "Metrica con la Mediana"
   ]
  },
  {
   "cell_type": "markdown",
   "metadata": {},
   "source": [
    "# Distancia Global basada en caracteristicas\n",
    "\n",
    "aqui la carreta que agrego en la noche"
   ]
  },
  {
   "cell_type": "code",
   "execution_count": null,
   "metadata": {},
   "outputs": [],
   "source": [
    "def delta_function(pixel_1,pixel_2, N, alpha):\n",
    "    dD = (np.abs(pixel_2[0]-pixel_1[0]) + np.abs(pixel_2[1]-pixel_1[1]))/(2*N)\n",
    "    GR = np.abs(pixel_2[2] - pixel_1[2])/np.max(np.array([pixel_2[2], pixel_1[2]]))\n",
    "    return(alpha*dD + (1-alpha)*GR)\n",
    "\n",
    "def GC(image_A, image_B, alpha = 0.5):\n",
    "    Global_distance = 0\n",
    "    Dim_image = image_A.shape[0]\n",
    "    \n",
    "    A_vector = []\n",
    "    B_vector = []\n",
    "    for row in range(Dim_image):\n",
    "        for col in range(Dim_image):\n",
    "            A_vector.append((row+1,col+1,image_A[row,col]))\n",
    "            B_vector.append((row+1,col+1,image_B[row,col]))\n",
    "\n",
    "    combinations = [A_vector,B_vector]\n",
    "    tuplas = it.product(*combinations)\n",
    "\n",
    "    for tupla in tuplas:\n",
    "        Global_distance += delta_function(tupla[0], tupla[1], Dim_image, alpha)\n",
    "    return(2*Global_distance/(Dim_image**4-Dim_image**2))\n",
    "\n",
    "\n",
    "GC(image_A, image_B)"
   ]
  },
  {
   "cell_type": "code",
   "execution_count": null,
   "metadata": {},
   "outputs": [],
   "source": [
    "distanciaMediana= [GC(data_set[i,:,:],median_face) for i in range(data_set.shape[0])]\n",
    "# se crea el histograma\n",
    "plt.title('DistanciaMediana')\n",
    "plt.hist(distanciaMediana)\n",
    "plt.grid(True)\n",
    "plt.show()\n",
    "plt.clf()\n",
    "\n",
    "# se sacan los outliers con Z \n",
    "from scipy import stats\n",
    "z = np.abs(stats.zscore(distanciaMediana))\n",
    "out=np.where(z > 3)\n",
    "[outliers]=out\n",
    "print(outliers)\n",
    "\n",
    "#se construye el Boxplot\n",
    "red_square = dict(markerfacecolor='r', marker='s')\n",
    "fig5, ax5 = plt.subplots()\n",
    "ax5.set_title('Horizontal Boxes')\n",
    "ax5.boxplot(distanciaMediana, vert=False, flierprops=red_square)\n",
    "\n",
    "\n"
   ]
  },
  {
   "cell_type": "code",
   "execution_count": null,
   "metadata": {},
   "outputs": [],
   "source": [
    "# se sacan lel maximo outlier\n",
    "\n",
    "Maxm=np.max(distanciaMediana)\n",
    "Max=np.where(distanciaMediana==Maxm)\n",
    "[Maximo]=Max\n",
    "j=Maximo[0]\n",
    "print(Maximo)\n",
    "plt.imshow(data_set[j,:,:], cmap = plt.cm.gray) #check "
   ]
  },
  {
   "cell_type": "markdown",
   "metadata": {},
   "source": [
    "# \n",
    "Metrica contra la Media"
   ]
  },
  {
   "cell_type": "code",
   "execution_count": null,
   "metadata": {},
   "outputs": [],
   "source": [
    "distanciaMedia= [GC(data_set[i,:,:],mean_face) for i in range(data_set.shape[0])]\n",
    "\n",
    "\n",
    "# se crea el histograma\n",
    "plt.title('DistanciaMedia')\n",
    "plt.hist(distanciaMediana)\n",
    "plt.grid(True)\n",
    "plt.show()\n",
    "plt.clf()\n",
    "\n",
    "#se construye el Boxplot\n",
    "red_square = dict(markerfacecolor='r', marker='s')\n",
    "fig5, ax5 = plt.subplots()\n",
    "ax5.set_title('Horizontal Boxes')\n",
    "ax5.boxplot(distanciaMedia, vert=False, flierprops=red_square)\n",
    "\n",
    "# se sacan los outliers\n",
    "from scipy import stats\n",
    "z = np.abs(stats.zscore(distanciaMedia))\n",
    "out=np.where(z > 2.5)\n",
    "[outliers]=out\n",
    "print(outliers)"
   ]
  },
  {
   "cell_type": "code",
   "execution_count": null,
   "metadata": {},
   "outputs": [],
   "source": [
    "# se sacan lel maximo outlier\n",
    "Maxm=np.max(distanciaMedia)\n",
    "Max=np.where(distanciaMedia==Maxm)\n",
    "[Maximo]=Max\n",
    "j=Maximo[0]\n",
    "print(Maxm)\n",
    "print(Maximo)\n",
    "plt.imshow(data_set[j,:,:], cmap = plt.cm.gray) #check "
   ]
  },
  {
   "cell_type": "markdown",
   "metadata": {},
   "source": [
    "# Función de Distancia"
   ]
  },
  {
   "cell_type": "code",
   "execution_count": null,
   "metadata": {},
   "outputs": [],
   "source": [
    "#Traer una foto externa \n",
    "image2=\"98.jpeg\"\n",
    "img2= cv2.cvtColor(cv2.resize(cv2.imread(image2),(180,180)),cv2.COLOR_BGR2GRAY)\n",
    "plt.imshow(img2, cmap=plt.cm.gray)\n",
    "print(img2.shape)\n",
    "print(median_face.shape)\n",
    "Distancia2=np.linalg.norm(median_face - img2, ord=1, axis=(0,1), keepdims=False)\n",
    "print(Distancia2)\n",
    "print(Maxm)"
   ]
  },
  {
   "cell_type": "code",
   "execution_count": 1,
   "metadata": {},
   "outputs": [],
   "source": [
    "import cv2\n",
    "\n",
    "camera = cv2.VideoCapture(0)\n",
    "for i in range(10):\n",
    "    return_value, image = camera.read()\n",
    "    cv2.imwrite('opencv'+str(i)+'.png', image)\n",
    "del(camera)"
   ]
  },
  {
   "cell_type": "code",
   "execution_count": null,
   "metadata": {},
   "outputs": [],
   "source": []
  }
 ],
 "metadata": {
  "kernelspec": {
   "display_name": "Python 3",
   "language": "python",
   "name": "python3"
  },
  "language_info": {
   "codemirror_mode": {
    "name": "ipython",
    "version": 3
   },
   "file_extension": ".py",
   "mimetype": "text/x-python",
   "name": "python",
   "nbconvert_exporter": "python",
   "pygments_lexer": "ipython3",
   "version": "3.6.8"
  }
 },
 "nbformat": 4,
 "nbformat_minor": 2
}
